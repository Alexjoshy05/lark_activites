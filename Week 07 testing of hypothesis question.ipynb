{
 "cells": [
  {
   "cell_type": "code",
   "execution_count": 21,
   "id": "dae74840",
   "metadata": {},
   "outputs": [],
   "source": [
    "import numpy as np \n",
    "import pandas as pd"
   ]
  },
  {
   "cell_type": "code",
   "execution_count": 22,
   "id": "3b85a824",
   "metadata": {},
   "outputs": [],
   "source": [
    "data=pd.read_csv('dataset w7.csv')"
   ]
  },
  {
   "cell_type": "code",
   "execution_count": 72,
   "id": "790507ac",
   "metadata": {},
   "outputs": [
    {
     "data": {
      "text/html": [
       "<div>\n",
       "<style scoped>\n",
       "    .dataframe tbody tr th:only-of-type {\n",
       "        vertical-align: middle;\n",
       "    }\n",
       "\n",
       "    .dataframe tbody tr th {\n",
       "        vertical-align: top;\n",
       "    }\n",
       "\n",
       "    .dataframe thead th {\n",
       "        text-align: right;\n",
       "    }\n",
       "</style>\n",
       "<table border=\"1\" class=\"dataframe\">\n",
       "  <thead>\n",
       "    <tr style=\"text-align: right;\">\n",
       "      <th></th>\n",
       "      <th>Gender</th>\n",
       "      <th>Test preparation</th>\n",
       "      <th>Total Marks</th>\n",
       "    </tr>\n",
       "  </thead>\n",
       "  <tbody>\n",
       "    <tr>\n",
       "      <th>0</th>\n",
       "      <td>male</td>\n",
       "      <td>none</td>\n",
       "      <td>14</td>\n",
       "    </tr>\n",
       "    <tr>\n",
       "      <th>1</th>\n",
       "      <td>female</td>\n",
       "      <td>none</td>\n",
       "      <td>28</td>\n",
       "    </tr>\n",
       "    <tr>\n",
       "      <th>2</th>\n",
       "      <td>female</td>\n",
       "      <td>none</td>\n",
       "      <td>18</td>\n",
       "    </tr>\n",
       "    <tr>\n",
       "      <th>3</th>\n",
       "      <td>female</td>\n",
       "      <td>none</td>\n",
       "      <td>48</td>\n",
       "    </tr>\n",
       "    <tr>\n",
       "      <th>4</th>\n",
       "      <td>female</td>\n",
       "      <td>none</td>\n",
       "      <td>21</td>\n",
       "    </tr>\n",
       "  </tbody>\n",
       "</table>\n",
       "</div>"
      ],
      "text/plain": [
       "   Gender Test preparation  Total Marks\n",
       "0    male             none           14\n",
       "1  female             none           28\n",
       "2  female             none           18\n",
       "3  female             none           48\n",
       "4  female             none           21"
      ]
     },
     "execution_count": 72,
     "metadata": {},
     "output_type": "execute_result"
    }
   ],
   "source": [
    "data.head()"
   ]
  },
  {
   "cell_type": "code",
   "execution_count": 70,
   "id": "a833a6bb",
   "metadata": {},
   "outputs": [
    {
     "data": {
      "text/plain": [
       "Index(['Gender', 'Test preparation', 'Total Marks'], dtype='object')"
      ]
     },
     "execution_count": 70,
     "metadata": {},
     "output_type": "execute_result"
    }
   ],
   "source": [
    "data.columns"
   ]
  },
  {
   "cell_type": "markdown",
   "id": "dfaa93dc",
   "metadata": {},
   "source": [
    "# 1. Carry out descriptive analytics on the dataset. "
   ]
  },
  {
   "cell_type": "code",
   "execution_count": 24,
   "id": "8725cb6b",
   "metadata": {},
   "outputs": [
    {
     "data": {
      "text/html": [
       "<div>\n",
       "<style scoped>\n",
       "    .dataframe tbody tr th:only-of-type {\n",
       "        vertical-align: middle;\n",
       "    }\n",
       "\n",
       "    .dataframe tbody tr th {\n",
       "        vertical-align: top;\n",
       "    }\n",
       "\n",
       "    .dataframe thead th {\n",
       "        text-align: right;\n",
       "    }\n",
       "</style>\n",
       "<table border=\"1\" class=\"dataframe\">\n",
       "  <thead>\n",
       "    <tr style=\"text-align: right;\">\n",
       "      <th></th>\n",
       "      <th>count</th>\n",
       "      <th>mean</th>\n",
       "      <th>std</th>\n",
       "      <th>min</th>\n",
       "      <th>25%</th>\n",
       "      <th>50%</th>\n",
       "      <th>75%</th>\n",
       "      <th>max</th>\n",
       "    </tr>\n",
       "  </thead>\n",
       "  <tbody>\n",
       "    <tr>\n",
       "      <th>Total Marks</th>\n",
       "      <td>28.0</td>\n",
       "      <td>32.321429</td>\n",
       "      <td>12.45452</td>\n",
       "      <td>12.0</td>\n",
       "      <td>22.5</td>\n",
       "      <td>33.0</td>\n",
       "      <td>43.25</td>\n",
       "      <td>50.0</td>\n",
       "    </tr>\n",
       "  </tbody>\n",
       "</table>\n",
       "</div>"
      ],
      "text/plain": [
       "             count       mean       std   min   25%   50%    75%   max\n",
       "Total Marks   28.0  32.321429  12.45452  12.0  22.5  33.0  43.25  50.0"
      ]
     },
     "execution_count": 24,
     "metadata": {},
     "output_type": "execute_result"
    }
   ],
   "source": [
    "data.describe().T"
   ]
  },
  {
   "cell_type": "markdown",
   "id": "76708ccb",
   "metadata": {},
   "source": [
    "# 2. Check whether female and male students scored the same marks. "
   ]
  },
  {
   "cell_type": "code",
   "execution_count": 27,
   "id": "4f3e8853",
   "metadata": {},
   "outputs": [],
   "source": [
    "import scipy.stats as stats\n",
    "#null hypothesis= Marks scored by female and male students are not same.\n",
    "#alternative hypothesis= Marks scored by female and male students is same."
   ]
  },
  {
   "cell_type": "code",
   "execution_count": 28,
   "id": "6d2c0829",
   "metadata": {},
   "outputs": [],
   "source": [
    "male=data.loc[data['Gender']=='male']\n",
    "female=data.loc[data['Gender']=='female']"
   ]
  },
  {
   "cell_type": "code",
   "execution_count": 50,
   "id": "2b788975",
   "metadata": {},
   "outputs": [
    {
     "data": {
      "text/plain": [
       "ShapiroResult(statistic=0.9093747138977051, pvalue=0.20944461226463318)"
      ]
     },
     "execution_count": 50,
     "metadata": {},
     "output_type": "execute_result"
    }
   ],
   "source": [
    "stats.shapiro(male['Total Marks'])"
   ]
  },
  {
   "cell_type": "code",
   "execution_count": 51,
   "id": "a20b379c",
   "metadata": {},
   "outputs": [
    {
     "data": {
      "text/plain": [
       "ShapiroResult(statistic=0.9078445434570312, pvalue=0.10742566734552383)"
      ]
     },
     "execution_count": 51,
     "metadata": {},
     "output_type": "execute_result"
    }
   ],
   "source": [
    "stats.shapiro(female['Total Marks'])"
   ]
  },
  {
   "cell_type": "code",
   "execution_count": null,
   "id": "c69811d9",
   "metadata": {},
   "outputs": [],
   "source": [
    "# The p value of male and female is more than 0.05 the distribution is normal"
   ]
  },
  {
   "cell_type": "code",
   "execution_count": 37,
   "id": "11745558",
   "metadata": {},
   "outputs": [
    {
     "data": {
      "text/plain": [
       "Ttest_indResult(statistic=0.6940885268848668, pvalue=0.4937822317960763)"
      ]
     },
     "execution_count": 37,
     "metadata": {},
     "output_type": "execute_result"
    }
   ],
   "source": [
    "stats.ttest_ind(female['Total Marks'],male['Total Marks'])"
   ]
  },
  {
   "cell_type": "code",
   "execution_count": 38,
   "id": "57a8c551",
   "metadata": {},
   "outputs": [
    {
     "data": {
      "text/plain": [
       "0.4937822317960763"
      ]
     },
     "execution_count": 38,
     "metadata": {},
     "output_type": "execute_result"
    }
   ],
   "source": [
    "ind,p=stats.ttest_ind(female['Total Marks'],male['Total Marks'])\n",
    "p"
   ]
  },
  {
   "cell_type": "code",
   "execution_count": 43,
   "id": "4f91ad0c",
   "metadata": {},
   "outputs": [
    {
     "name": "stdout",
     "output_type": "stream",
     "text": [
      "Failed to reject the null hypthesis: \n",
      " Marks scored by female and male students are not same.\n"
     ]
    }
   ],
   "source": [
    "if p < 0.05:\n",
    "    print('Reject the null hypothesis: \\n Marks scored by female and male students is same.')\n",
    "else:\n",
    "    print('Failed to reject the null hypthesis: \\n Marks scored by female and male students are not same.')\n"
   ]
  },
  {
   "cell_type": "markdown",
   "id": "e585e0dc",
   "metadata": {},
   "source": [
    "# 3. Whether test preparation helps the students? "
   ]
  },
  {
   "cell_type": "code",
   "execution_count": 45,
   "id": "e29dc87d",
   "metadata": {},
   "outputs": [],
   "source": [
    "#null hypothesis= test preparation not helps the students\n",
    "#alternative hypothesis= test preperation helps the students"
   ]
  },
  {
   "cell_type": "code",
   "execution_count": 47,
   "id": "fd6e658d",
   "metadata": {},
   "outputs": [],
   "source": [
    "none=data.loc[data['Test preparation']=='none']\n",
    "completed=data.loc[data['Test preparation']=='completed']"
   ]
  },
  {
   "cell_type": "code",
   "execution_count": 54,
   "id": "8a0b7a84",
   "metadata": {},
   "outputs": [
    {
     "data": {
      "text/plain": [
       "ShapiroResult(statistic=0.935218095779419, pvalue=0.17507188022136688)"
      ]
     },
     "execution_count": 54,
     "metadata": {},
     "output_type": "execute_result"
    }
   ],
   "source": [
    "stats.shapiro(none['Total Marks'])"
   ]
  },
  {
   "cell_type": "code",
   "execution_count": 56,
   "id": "bc934fe9",
   "metadata": {},
   "outputs": [
    {
     "data": {
      "text/plain": [
       "ShapiroResult(statistic=0.9187047481536865, pvalue=0.4593968093395233)"
      ]
     },
     "execution_count": 56,
     "metadata": {},
     "output_type": "execute_result"
    }
   ],
   "source": [
    "stats.shapiro(completed['Total Marks'])"
   ]
  },
  {
   "cell_type": "code",
   "execution_count": null,
   "id": "e1a76b7c",
   "metadata": {},
   "outputs": [],
   "source": [
    "#p value greater than 0.05 the distribution is normal"
   ]
  },
  {
   "cell_type": "code",
   "execution_count": 53,
   "id": "27d7abbc",
   "metadata": {},
   "outputs": [
    {
     "data": {
      "text/plain": [
       "Ttest_indResult(statistic=-3.6143637527769217, pvalue=0.0012671292457320106)"
      ]
     },
     "execution_count": 53,
     "metadata": {},
     "output_type": "execute_result"
    }
   ],
   "source": [
    "stats.ttest_ind(none['Total Marks'],completed['Total Marks'])"
   ]
  },
  {
   "cell_type": "code",
   "execution_count": 57,
   "id": "01c0252c",
   "metadata": {},
   "outputs": [
    {
     "data": {
      "text/plain": [
       "0.0012671292457320106"
      ]
     },
     "execution_count": 57,
     "metadata": {},
     "output_type": "execute_result"
    }
   ],
   "source": [
    "ind1,p=stats.ttest_ind(none['Total Marks'],completed['Total Marks'])\n",
    "p"
   ]
  },
  {
   "cell_type": "code",
   "execution_count": 58,
   "id": "35d3cd70",
   "metadata": {},
   "outputs": [
    {
     "name": "stdout",
     "output_type": "stream",
     "text": [
      "Reject the null hypothesis: \n",
      " test preparation helps the students\n"
     ]
    }
   ],
   "source": [
    "if p < 0.05:\n",
    "    print('Reject the null hypothesis: \\n test preparation helps the students')\n",
    "else:\n",
    "    print('Accept the null hypothesis: \\n test prepartion not helps the students')"
   ]
  },
  {
   "cell_type": "code",
   "execution_count": 64,
   "id": "853ca4ce",
   "metadata": {},
   "outputs": [],
   "source": [
    "import seaborn as sns\n",
    "import matplotlib.pyplot as plt"
   ]
  },
  {
   "cell_type": "code",
   "execution_count": 66,
   "id": "06e0b6e6",
   "metadata": {},
   "outputs": [
    {
     "data": {
      "text/plain": [
       "Text(0.5, 1.0, 'Test perpartion v/s Total marks')"
      ]
     },
     "execution_count": 66,
     "metadata": {},
     "output_type": "execute_result"
    },
    {
     "data": {
      "image/png": "[encoded data removed]",
      "text/plain": [
       "<Figure size 432x288 with 1 Axes>"
      ]
     },
     "metadata": {
      "needs_background": "light"
     },
     "output_type": "display_data"
    }
   ],
   "source": [
    "sns.boxplot(x='Test preparation',y='Total Marks',data=data)\n",
    "plt.title('Test perpartion v/s Total marks',fontweight='bold',fontsize=15)"
   ]
  },
  {
   "cell_type": "code",
   "execution_count": null,
   "id": "ef3b248b",
   "metadata": {},
   "outputs": [],
   "source": []
  }
 ],
 "metadata": {
  "kernelspec": {
   "display_name": "Python 3 (ipykernel)",
   "language": "python",
   "name": "python3"
  },
  "language_info": {
   "codemirror_mode": {
    "name": "ipython",
    "version": 3
   },
   "file_extension": ".py",
   "mimetype": "text/x-python",
   "name": "python",
   "nbconvert_exporter": "python",
   "pygments_lexer": "ipython3",
   "version": "3.9.7"
  }
 },
 "nbformat": 4,
 "nbformat_minor": 5
}
